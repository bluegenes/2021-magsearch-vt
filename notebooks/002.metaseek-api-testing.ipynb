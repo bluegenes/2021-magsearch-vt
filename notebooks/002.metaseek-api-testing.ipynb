{
 "cells": [
  {
   "cell_type": "code",
   "execution_count": 1,
   "id": "733b58de-cbdb-4279-99f2-d14708ed0dfa",
   "metadata": {},
   "outputs": [],
   "source": [
    "import requests, json"
   ]
  },
  {
   "cell_type": "code",
   "execution_count": 3,
   "id": "78b923ae-ff52-45f2-b0ec-9bf510439d86",
   "metadata": {},
   "outputs": [
    {
     "name": "stdout",
     "output_type": "stream",
     "text": [
      "ms21_c50.unique-metagenomes.txt\n",
      "ms31_c50.unique-metagenomes.txt\n",
      "pl-genomes.sra-search.k21-c50.by-genome.csv\n",
      "pl-genomes.sra-search.k21-c50.csv\n",
      "pl-genomes.sra-search.k31-c50.by-genome.csv\n",
      "pl-genomes.sra-search.k31-c50.csv\n"
     ]
    },
    {
     "name": "stderr",
     "output_type": "stream",
     "text": [
      "  % Total    % Received % Xferd  Average Speed   Time    Time     Time  Current\n",
      "                                 Dload  Upload   Total   Spent    Left  Speed\n",
      "100   541  100   541    0     0    212      0  0:00:02  0:00:02 --:--:--   212\n",
      "100  1617  100  1617    0     0    351      0  0:00:04  0:00:04 --:--:--  2182\n"
     ]
    }
   ],
   "source": [
    "%%bash\n",
    "mkdir -p ../output.magsearch/processed_results\n",
    "curl -L https://osf.io/ca6um/download -o ../output.magsearch/processed_results/ms21_c50.unique-metagenomes.txt\n",
    "ls ../output.magsearch/processed_results"
   ]
  },
  {
   "cell_type": "code",
   "execution_count": 5,
   "id": "b6d15e70-2e4f-4bcb-a1df-66bfac90fa31",
   "metadata": {},
   "outputs": [
    {
     "data": {
      "text/plain": [
       "['SRR4140278', 'SRR10097270', 'ERR3427626']"
      ]
     },
     "execution_count": 5,
     "metadata": {},
     "output_type": "execute_result"
    }
   ],
   "source": [
    "sra_of_interest = [x.strip() for x in open(\"../output.magsearch/processed_results/ms21_c50.unique-metagenomes.txt\")]\n",
    "sra_of_interest[:3]"
   ]
  },
  {
   "cell_type": "code",
   "execution_count": 6,
   "id": "7da625df-fe9a-426b-8438-e9999e54c4b8",
   "metadata": {},
   "outputs": [],
   "source": [
    "# Try getting metadata from single SRA item'\n",
    "\n",
    "rules_items = [{\"field\":\"run_ids_maxrun\",\"type\":5,\"value\":\"SRR4140278\"}] #replace ERX##### with your run ID\n",
    "rules = {\"rules\":rules_items}\n",
    "post_data = {'filter_params':json.dumps(rules)}\n",
    "\n",
    "post = requests.post('https://api.metaseek.cloud/datasets/search/metadata', data=post_data)\n",
    "result = json.loads(post.text) #the parsed result returned from the API."
   ]
  },
  {
   "cell_type": "code",
   "execution_count": 30,
   "id": "1575c247-2f81-4349-b48b-3ed45c83bce6",
   "metadata": {},
   "outputs": [
    {
     "data": {
      "text/plain": [
       "{'filter_params': {'rules': [{'field': 'run_ids_maxrun',\n",
       "    'type': 5,\n",
       "    'value': 'SRR4140278'}]},\n",
       " 'datasets': [{'submission_id': 'SRA461051',\n",
       "   'metaseek_env_package': 'NaN',\n",
       "   'biosample_link': 'https://www.ncbi.nlm.nih.gov/biosample/5720242',\n",
       "   'expt_link': 'https://www.ncbi.nlm.nih.gov/sra/3117478',\n",
       "   'metaseek_sequencing_method': 'illumina',\n",
       "   'ploidy': None,\n",
       "   'taxon_common_name': None,\n",
       "   'collection_date': '2012-06-07',\n",
       "   'investigation_type': None,\n",
       "   'metaseek_investigation_type_P': 0.947262,\n",
       "   'latitude': None,\n",
       "   'elevation': None,\n",
       "   'biosample_id': 'SAMN05720242',\n",
       "   'target_subfragment': None,\n",
       "   'metaseek_mixs_specification': 'MIMS',\n",
       "   'total_num_bases_maxrun': 28440850500,\n",
       "   'specific_host': None,\n",
       "   'organization_contacts': 'JGI genbank, jgi-genbank@lists.jgi-psf.org, JGI biosample, jgi-biosample@quagmire.jgi-psf.org',\n",
       "   'study_title': 'Agave microbial communities from California, USA - At.Am.rz metagenome',\n",
       "   'db_source_uid': '3117478',\n",
       "   'library_name': 'YWCX',\n",
       "   'organization_address': 'DOE Joint Genome Institute',\n",
       "   'sample_id': 'SRS1668427',\n",
       "   'sex': None,\n",
       "   'estimated_size': None,\n",
       "   'ncbi_taxon_id': '1759406',\n",
       "   'env_feature': None,\n",
       "   'subspecific_genetic_lineage': None,\n",
       "   'dev_stage': None,\n",
       "   'sample_type': None,\n",
       "   'organization_name': 'DOE Joint Genome Institute',\n",
       "   'library_construction_protocol': 'Regular (DNA)',\n",
       "   'lat_lon': '21.0411 N 103.9083 W',\n",
       "   'biosample_uid': '5720242',\n",
       "   'study_abstract': None,\n",
       "   'library_strategy': 'WGS',\n",
       "   'metadata_publication_date': 'Wed, 31 Aug 2016 14:49:07 -0000',\n",
       "   'assembly': None,\n",
       "   'run_quality_counts_maxrun': '{\"24\": 78900549, \"25\": 102682690, \"26\": 55975673, \"27\": 162457759, \"20\": 56022, \"21\": 83243402, \"22\": 6952586, \"23\": 87291874, \"28\": 123164744, \"29\": 201141970, \"2\": 457148899, \"38\": 21445763982, \"11\": 51619, \"13\": 211215328, \"12\": 20629, \"15\": 126785014, \"14\": 271570298, \"16\": 111403607, \"19\": 95, \"18\": 13333674, \"31\": 303768240, \"30\": 32940694, \"37\": 577656236, \"36\": 922089259, \"35\": 944519855, \"34\": 1206096284, \"33\": 721083349, \"32\": 193536169}',\n",
       "   'library_source': 'metagenomic',\n",
       "   'sample_attributes': '{\"collection_date\": \"2012-06-07\", \"isolation_source\": \"Rhizosphere\", \"host\": \"not applicable\", \"lat_lon\": \"21.0411 N 103.9083 W\", \"geo_loc_name\": \"Mexico:Guanajato, Mexico\"}',\n",
       "   'study_attributes': None,\n",
       "   'library_construction_method': 'paired',\n",
       "   'metaseek_investigation_type': 'metagenome',\n",
       "   'env_package': None,\n",
       "   'study_type_other': None,\n",
       "   'baseN_count_maxrun': 5722422,\n",
       "   'metaseek_mixs_specification_P': 0.947262,\n",
       "   'sample_title': 'Agave microbial communities from California, USA - At.Am.rz',\n",
       "   'download_size_maxrun': 12836465723,\n",
       "   'biosample_package': 'Metagenome.environmental.1.0',\n",
       "   'baseC_count_maxrun': 8333258693,\n",
       "   'taxon_scientific_name': 'microbial fuel cell metagenome',\n",
       "   'host_disease': None,\n",
       "   'expt_title': 'Agave microbiome At.Am.rz',\n",
       "   'avg_read_length_maxrun': 150.0,\n",
       "   'baseA_count_maxrun': 5909569720,\n",
       "   'altitude': None,\n",
       "   'env_biome': None,\n",
       "   'geo_loc_name': 'Mexico:Guanajato, Mexico',\n",
       "   'project_name': None,\n",
       "   'study_type': 'Metagenomics',\n",
       "   'biomaterial_provider': None,\n",
       "   'finishing_strategy': None,\n",
       "   'num_runs_in_accession': 1,\n",
       "   'longitude': None,\n",
       "   'baseG_count_maxrun': 8312206978,\n",
       "   'expt_design_description': None,\n",
       "   'uri': '/dataset/1151770',\n",
       "   'isol_growth_condt': None,\n",
       "   'tissue': None,\n",
       "   'meta_longitude': -103.908,\n",
       "   'baseT_count_maxrun': 5880092687,\n",
       "   'id': 1151770,\n",
       "   'target_gene': None,\n",
       "   'experimental_factor': None,\n",
       "   'propagation': None,\n",
       "   'sample_description': None,\n",
       "   'library_screening_strategy': 'RANDOM',\n",
       "   'library_reads_sequenced_maxrun': 94802835,\n",
       "   'gc_percent_maxrun': 0.0,\n",
       "   'ref_biomaterial': None,\n",
       "   'env_material': None,\n",
       "   'num_replicons': None,\n",
       "   'study_links': '{\"JGI Genome Portal\": \"http://genome.jgi-psf.org/lookup?keyName=jgiProjectId&keyValue=1050097&app=Info\", \"GOLD\": \"https://gold.jgi.doe.gov/project?id=Gp0104144\"}',\n",
       "   'bioproject_id': 'PRJNA340596',\n",
       "   'date_scraped': 'Sat, 08 Jul 2017 19:08:09 -0000',\n",
       "   'meta_latitude': 21.0411,\n",
       "   'age': None,\n",
       "   'instrument_model': 'Illumina HiSeq 2500',\n",
       "   'db_source': 'SRA',\n",
       "   'study_id': 'SRP085218',\n",
       "   'depth': None,\n",
       "   'run_ids_maxrun': 'SRR4140278',\n",
       "   'biosample_models': 'Metagenome or environmental',\n",
       "   'expt_id': 'SRX2122698',\n",
       "   'sequencing_method': 'illumina',\n",
       "   'collection_time': None}],\n",
       " 'count_matching_datasets': 1}"
      ]
     },
     "execution_count": 30,
     "metadata": {},
     "output_type": "execute_result"
    }
   ],
   "source": [
    "result"
   ]
  },
  {
   "cell_type": "code",
   "execution_count": 17,
   "id": "7dba5857-b899-4e77-9ebf-01f21750c2bd",
   "metadata": {},
   "outputs": [
    {
     "name": "stdout",
     "output_type": "stream",
     "text": [
      "{'submission_id': 'SRA461051', 'metaseek_env_package': 'NaN', 'biosample_link': 'https://www.ncbi.nlm.nih.gov/biosample/5720242', 'expt_link': 'https://www.ncbi.nlm.nih.gov/sra/3117478', 'metaseek_sequencing_method': 'illumina', 'ploidy': None, 'taxon_common_name': None, 'collection_date': '2012-06-07', 'investigation_type': None, 'metaseek_investigation_type_P': 0.947262, 'latitude': None, 'elevation': None, 'biosample_id': 'SAMN05720242', 'target_subfragment': None, 'metaseek_mixs_specification': 'MIMS', 'total_num_bases_maxrun': 28440850500, 'specific_host': None, 'organization_contacts': 'JGI genbank, jgi-genbank@lists.jgi-psf.org, JGI biosample, jgi-biosample@quagmire.jgi-psf.org', 'study_title': 'Agave microbial communities from California, USA - At.Am.rz metagenome', 'db_source_uid': '3117478', 'library_name': 'YWCX', 'organization_address': 'DOE Joint Genome Institute', 'sample_id': 'SRS1668427', 'sex': None, 'estimated_size': None, 'ncbi_taxon_id': '1759406', 'env_feature': None, 'subspecific_genetic_lineage': None, 'dev_stage': None, 'sample_type': None, 'organization_name': 'DOE Joint Genome Institute', 'library_construction_protocol': 'Regular (DNA)', 'lat_lon': '21.0411 N 103.9083 W', 'biosample_uid': '5720242', 'study_abstract': None, 'library_strategy': 'WGS', 'metadata_publication_date': 'Wed, 31 Aug 2016 14:49:07 -0000', 'assembly': None, 'run_quality_counts_maxrun': '{\"24\": 78900549, \"25\": 102682690, \"26\": 55975673, \"27\": 162457759, \"20\": 56022, \"21\": 83243402, \"22\": 6952586, \"23\": 87291874, \"28\": 123164744, \"29\": 201141970, \"2\": 457148899, \"38\": 21445763982, \"11\": 51619, \"13\": 211215328, \"12\": 20629, \"15\": 126785014, \"14\": 271570298, \"16\": 111403607, \"19\": 95, \"18\": 13333674, \"31\": 303768240, \"30\": 32940694, \"37\": 577656236, \"36\": 922089259, \"35\": 944519855, \"34\": 1206096284, \"33\": 721083349, \"32\": 193536169}', 'library_source': 'metagenomic', 'sample_attributes': '{\"collection_date\": \"2012-06-07\", \"isolation_source\": \"Rhizosphere\", \"host\": \"not applicable\", \"lat_lon\": \"21.0411 N 103.9083 W\", \"geo_loc_name\": \"Mexico:Guanajato, Mexico\"}', 'study_attributes': None, 'library_construction_method': 'paired', 'metaseek_investigation_type': 'metagenome', 'env_package': None, 'study_type_other': None, 'baseN_count_maxrun': 5722422, 'metaseek_mixs_specification_P': 0.947262, 'sample_title': 'Agave microbial communities from California, USA - At.Am.rz', 'download_size_maxrun': 12836465723, 'biosample_package': 'Metagenome.environmental.1.0', 'baseC_count_maxrun': 8333258693, 'taxon_scientific_name': 'microbial fuel cell metagenome', 'host_disease': None, 'expt_title': 'Agave microbiome At.Am.rz', 'avg_read_length_maxrun': 150.0, 'baseA_count_maxrun': 5909569720, 'altitude': None, 'env_biome': None, 'geo_loc_name': 'Mexico:Guanajato, Mexico', 'project_name': None, 'study_type': 'Metagenomics', 'biomaterial_provider': None, 'finishing_strategy': None, 'num_runs_in_accession': 1, 'longitude': None, 'baseG_count_maxrun': 8312206978, 'expt_design_description': None, 'uri': '/dataset/1151770', 'isol_growth_condt': None, 'tissue': None, 'meta_longitude': -103.908, 'baseT_count_maxrun': 5880092687, 'id': 1151770, 'target_gene': None, 'experimental_factor': None, 'propagation': None, 'sample_description': None, 'library_screening_strategy': 'RANDOM', 'library_reads_sequenced_maxrun': 94802835, 'gc_percent_maxrun': 0.0, 'ref_biomaterial': None, 'env_material': None, 'num_replicons': None, 'study_links': '{\"JGI Genome Portal\": \"http://genome.jgi-psf.org/lookup?keyName=jgiProjectId&keyValue=1050097&app=Info\", \"GOLD\": \"https://gold.jgi.doe.gov/project?id=Gp0104144\"}', 'bioproject_id': 'PRJNA340596', 'date_scraped': 'Sat, 08 Jul 2017 19:08:09 -0000', 'meta_latitude': 21.0411, 'age': None, 'instrument_model': 'Illumina HiSeq 2500', 'db_source': 'SRA', 'study_id': 'SRP085218', 'depth': None, 'run_ids_maxrun': 'SRR4140278', 'biosample_models': 'Metagenome or environmental', 'expt_id': 'SRX2122698', 'sequencing_method': 'illumina', 'collection_time': None}\n"
     ]
    }
   ],
   "source": [
    "print(result[\"datasets\"][0])"
   ]
  },
  {
   "cell_type": "code",
   "execution_count": 15,
   "id": "8fc07c4b-e3af-4652-a455-91069bd74d21",
   "metadata": {},
   "outputs": [
    {
     "name": "stdout",
     "output_type": "stream",
     "text": [
      "dict_keys(['submission_id', 'metaseek_env_package', 'biosample_link', 'expt_link', 'metaseek_sequencing_method', 'ploidy', 'taxon_common_name', 'collection_date', 'investigation_type', 'metaseek_investigation_type_P', 'latitude', 'elevation', 'biosample_id', 'target_subfragment', 'metaseek_mixs_specification', 'total_num_bases_maxrun', 'specific_host', 'organization_contacts', 'study_title', 'db_source_uid', 'library_name', 'organization_address', 'sample_id', 'sex', 'estimated_size', 'ncbi_taxon_id', 'env_feature', 'subspecific_genetic_lineage', 'dev_stage', 'sample_type', 'organization_name', 'library_construction_protocol', 'lat_lon', 'biosample_uid', 'study_abstract', 'library_strategy', 'metadata_publication_date', 'assembly', 'run_quality_counts_maxrun', 'library_source', 'sample_attributes', 'study_attributes', 'library_construction_method', 'metaseek_investigation_type', 'env_package', 'study_type_other', 'baseN_count_maxrun', 'metaseek_mixs_specification_P', 'sample_title', 'download_size_maxrun', 'biosample_package', 'baseC_count_maxrun', 'taxon_scientific_name', 'host_disease', 'expt_title', 'avg_read_length_maxrun', 'baseA_count_maxrun', 'altitude', 'env_biome', 'geo_loc_name', 'project_name', 'study_type', 'biomaterial_provider', 'finishing_strategy', 'num_runs_in_accession', 'longitude', 'baseG_count_maxrun', 'expt_design_description', 'uri', 'isol_growth_condt', 'tissue', 'meta_longitude', 'baseT_count_maxrun', 'id', 'target_gene', 'experimental_factor', 'propagation', 'sample_description', 'library_screening_strategy', 'library_reads_sequenced_maxrun', 'gc_percent_maxrun', 'ref_biomaterial', 'env_material', 'num_replicons', 'study_links', 'bioproject_id', 'date_scraped', 'meta_latitude', 'age', 'instrument_model', 'db_source', 'study_id', 'depth', 'run_ids_maxrun', 'biosample_models', 'expt_id', 'sequencing_method', 'collection_time'])\n"
     ]
    }
   ],
   "source": [
    "print(result[\"datasets\"][0].keys())"
   ]
  },
  {
   "cell_type": "code",
   "execution_count": 18,
   "id": "b56b7f3b-22c6-4056-85fa-15584494185d",
   "metadata": {},
   "outputs": [
    {
     "name": "stdout",
     "output_type": "stream",
     "text": [
      "{\"collection_date\": \"2012-06-07\", \"isolation_source\": \"Rhizosphere\", \"host\": \"not applicable\", \"lat_lon\": \"21.0411 N 103.9083 W\", \"geo_loc_name\": \"Mexico:Guanajato, Mexico\"}\n"
     ]
    }
   ],
   "source": [
    "print(result[\"datasets\"][0][\"sample_attributes\"])"
   ]
  },
  {
   "cell_type": "code",
   "execution_count": 20,
   "id": "f848492c-0d13-46cf-ba6c-1e27ef4c3886",
   "metadata": {},
   "outputs": [
    {
     "name": "stdout",
     "output_type": "stream",
     "text": [
      "Agave microbial communities from California, USA - At.Am.rz metagenome\n"
     ]
    }
   ],
   "source": [
    "print(result[\"datasets\"][0][\"study_title\"])"
   ]
  },
  {
   "cell_type": "code",
   "execution_count": 21,
   "id": "9926d435-07f2-45ef-8e78-4f0194abae8c",
   "metadata": {},
   "outputs": [
    {
     "name": "stdout",
     "output_type": "stream",
     "text": [
      "None\n"
     ]
    }
   ],
   "source": [
    "print(result[\"datasets\"][0][\"host_disease\"])"
   ]
  },
  {
   "cell_type": "code",
   "execution_count": 22,
   "id": "e9962d64-689c-4b0f-a913-40042cb0abdb",
   "metadata": {},
   "outputs": [
    {
     "name": "stdout",
     "output_type": "stream",
     "text": [
      "Agave microbiome At.Am.rz\n"
     ]
    }
   ],
   "source": [
    "print(result[\"datasets\"][0][\"expt_title\"])"
   ]
  },
  {
   "cell_type": "code",
   "execution_count": 23,
   "id": "1ab3feea-6a07-4610-8637-c94bdc8bea8f",
   "metadata": {},
   "outputs": [
    {
     "name": "stdout",
     "output_type": "stream",
     "text": [
      "Agave microbiome At.Am.rz\n"
     ]
    }
   ],
   "source": [
    "print(result[\"datasets\"][0][\"expt_title\"])"
   ]
  },
  {
   "cell_type": "code",
   "execution_count": 26,
   "id": "2c3f373c-3cc9-4c77-bb44-bbd6fa5af9dd",
   "metadata": {},
   "outputs": [
    {
     "name": "stdout",
     "output_type": "stream",
     "text": [
      "None\n"
     ]
    }
   ],
   "source": [
    "print(result[\"datasets\"][0][\"sample_description\"])"
   ]
  },
  {
   "cell_type": "code",
   "execution_count": 27,
   "id": "1eb9cd1c-ecfd-4c05-82df-4a43fc162fc2",
   "metadata": {},
   "outputs": [
    {
     "name": "stdout",
     "output_type": "stream",
     "text": [
      "None\n"
     ]
    }
   ],
   "source": [
    "print(result[\"datasets\"][0][\"ref_biomaterial\"])"
   ]
  },
  {
   "cell_type": "code",
   "execution_count": 28,
   "id": "bfbdac73-38ef-4fc9-9b37-32351ef86fb0",
   "metadata": {},
   "outputs": [
    {
     "name": "stdout",
     "output_type": "stream",
     "text": [
      "None\n"
     ]
    }
   ],
   "source": [
    "print(result[\"datasets\"][0][\"env_material\"])"
   ]
  },
  {
   "cell_type": "code",
   "execution_count": 29,
   "id": "d18561c9-ce3c-465a-907d-2074560d0e71",
   "metadata": {},
   "outputs": [
    {
     "name": "stdout",
     "output_type": "stream",
     "text": [
      "{\"JGI Genome Portal\": \"http://genome.jgi-psf.org/lookup?keyName=jgiProjectId&keyValue=1050097&app=Info\", \"GOLD\": \"https://gold.jgi.doe.gov/project?id=Gp0104144\"}\n"
     ]
    }
   ],
   "source": [
    "print(result[\"datasets\"][0][\"study_links\"])"
   ]
  },
  {
   "cell_type": "code",
   "execution_count": null,
   "id": "94a76e82-93cd-482e-9831-aa746863b6f0",
   "metadata": {},
   "outputs": [],
   "source": [
    "# find all metagenomic datasets (?\n",
    "#{\"rules\": [{\"field\":\"library_source\",\"type\":5, \"value\":\"metagenomic\"} ]})"
   ]
  },
  {
   "cell_type": "code",
   "execution_count": 7,
   "id": "2beb192e-3643-4977-81ac-813cc5c48d1c",
   "metadata": {},
   "outputs": [
    {
     "data": {
      "text/plain": [
       "{'filter_params': {'rules': [{'field': 'run_ids_maxrun',\n",
       "    'type': 5,\n",
       "    'value': 'SRR4140278'}]},\n",
       " 'datasets': [{'submission_id': 'SRA461051',\n",
       "   'metaseek_env_package': 'NaN',\n",
       "   'biosample_link': 'https://www.ncbi.nlm.nih.gov/biosample/5720242',\n",
       "   'expt_link': 'https://www.ncbi.nlm.nih.gov/sra/3117478',\n",
       "   'metaseek_sequencing_method': 'illumina',\n",
       "   'ploidy': None,\n",
       "   'taxon_common_name': None,\n",
       "   'collection_date': '2012-06-07',\n",
       "   'investigation_type': None,\n",
       "   'metaseek_investigation_type_P': 0.947262,\n",
       "   'latitude': None,\n",
       "   'elevation': None,\n",
       "   'biosample_id': 'SAMN05720242',\n",
       "   'target_subfragment': None,\n",
       "   'metaseek_mixs_specification': 'MIMS',\n",
       "   'total_num_bases_maxrun': 28440850500,\n",
       "   'specific_host': None,\n",
       "   'organization_contacts': 'JGI genbank, jgi-genbank@lists.jgi-psf.org, JGI biosample, jgi-biosample@quagmire.jgi-psf.org',\n",
       "   'study_title': 'Agave microbial communities from California, USA - At.Am.rz metagenome',\n",
       "   'db_source_uid': '3117478',\n",
       "   'library_name': 'YWCX',\n",
       "   'organization_address': 'DOE Joint Genome Institute',\n",
       "   'sample_id': 'SRS1668427',\n",
       "   'sex': None,\n",
       "   'estimated_size': None,\n",
       "   'ncbi_taxon_id': '1759406',\n",
       "   'env_feature': None,\n",
       "   'subspecific_genetic_lineage': None,\n",
       "   'dev_stage': None,\n",
       "   'sample_type': None,\n",
       "   'organization_name': 'DOE Joint Genome Institute',\n",
       "   'library_construction_protocol': 'Regular (DNA)',\n",
       "   'lat_lon': '21.0411 N 103.9083 W',\n",
       "   'biosample_uid': '5720242',\n",
       "   'study_abstract': None,\n",
       "   'library_strategy': 'WGS',\n",
       "   'metadata_publication_date': 'Wed, 31 Aug 2016 14:49:07 -0000',\n",
       "   'assembly': None,\n",
       "   'run_quality_counts_maxrun': '{\"24\": 78900549, \"25\": 102682690, \"26\": 55975673, \"27\": 162457759, \"20\": 56022, \"21\": 83243402, \"22\": 6952586, \"23\": 87291874, \"28\": 123164744, \"29\": 201141970, \"2\": 457148899, \"38\": 21445763982, \"11\": 51619, \"13\": 211215328, \"12\": 20629, \"15\": 126785014, \"14\": 271570298, \"16\": 111403607, \"19\": 95, \"18\": 13333674, \"31\": 303768240, \"30\": 32940694, \"37\": 577656236, \"36\": 922089259, \"35\": 944519855, \"34\": 1206096284, \"33\": 721083349, \"32\": 193536169}',\n",
       "   'library_source': 'metagenomic',\n",
       "   'sample_attributes': '{\"collection_date\": \"2012-06-07\", \"isolation_source\": \"Rhizosphere\", \"host\": \"not applicable\", \"lat_lon\": \"21.0411 N 103.9083 W\", \"geo_loc_name\": \"Mexico:Guanajato, Mexico\"}',\n",
       "   'study_attributes': None,\n",
       "   'library_construction_method': 'paired',\n",
       "   'metaseek_investigation_type': 'metagenome',\n",
       "   'env_package': None,\n",
       "   'study_type_other': None,\n",
       "   'baseN_count_maxrun': 5722422,\n",
       "   'metaseek_mixs_specification_P': 0.947262,\n",
       "   'sample_title': 'Agave microbial communities from California, USA - At.Am.rz',\n",
       "   'download_size_maxrun': 12836465723,\n",
       "   'biosample_package': 'Metagenome.environmental.1.0',\n",
       "   'baseC_count_maxrun': 8333258693,\n",
       "   'taxon_scientific_name': 'microbial fuel cell metagenome',\n",
       "   'host_disease': None,\n",
       "   'expt_title': 'Agave microbiome At.Am.rz',\n",
       "   'avg_read_length_maxrun': 150.0,\n",
       "   'baseA_count_maxrun': 5909569720,\n",
       "   'altitude': None,\n",
       "   'env_biome': None,\n",
       "   'geo_loc_name': 'Mexico:Guanajato, Mexico',\n",
       "   'project_name': None,\n",
       "   'study_type': 'Metagenomics',\n",
       "   'biomaterial_provider': None,\n",
       "   'finishing_strategy': None,\n",
       "   'num_runs_in_accession': 1,\n",
       "   'longitude': None,\n",
       "   'baseG_count_maxrun': 8312206978,\n",
       "   'expt_design_description': None,\n",
       "   'uri': '/dataset/1151770',\n",
       "   'isol_growth_condt': None,\n",
       "   'tissue': None,\n",
       "   'meta_longitude': -103.908,\n",
       "   'baseT_count_maxrun': 5880092687,\n",
       "   'id': 1151770,\n",
       "   'target_gene': None,\n",
       "   'experimental_factor': None,\n",
       "   'propagation': None,\n",
       "   'sample_description': None,\n",
       "   'library_screening_strategy': 'RANDOM',\n",
       "   'library_reads_sequenced_maxrun': 94802835,\n",
       "   'gc_percent_maxrun': 0.0,\n",
       "   'ref_biomaterial': None,\n",
       "   'env_material': None,\n",
       "   'num_replicons': None,\n",
       "   'study_links': '{\"JGI Genome Portal\": \"http://genome.jgi-psf.org/lookup?keyName=jgiProjectId&keyValue=1050097&app=Info\", \"GOLD\": \"https://gold.jgi.doe.gov/project?id=Gp0104144\"}',\n",
       "   'bioproject_id': 'PRJNA340596',\n",
       "   'date_scraped': 'Sat, 08 Jul 2017 19:08:09 -0000',\n",
       "   'meta_latitude': 21.0411,\n",
       "   'age': None,\n",
       "   'instrument_model': 'Illumina HiSeq 2500',\n",
       "   'db_source': 'SRA',\n",
       "   'study_id': 'SRP085218',\n",
       "   'depth': None,\n",
       "   'run_ids_maxrun': 'SRR4140278',\n",
       "   'biosample_models': 'Metagenome or environmental',\n",
       "   'expt_id': 'SRX2122698',\n",
       "   'sequencing_method': 'illumina',\n",
       "   'collection_time': None}],\n",
       " 'count_matching_datasets': 1}"
      ]
     },
     "execution_count": 7,
     "metadata": {},
     "output_type": "execute_result"
    }
   ],
   "source": [
    "result"
   ]
  },
  {
   "cell_type": "code",
   "execution_count": 31,
   "id": "13ee07a0-094a-460f-81c8-03138fa4f620",
   "metadata": {},
   "outputs": [
    {
     "data": {
      "text/html": [
       "<div>\n",
       "<style scoped>\n",
       "    .dataframe tbody tr th:only-of-type {\n",
       "        vertical-align: middle;\n",
       "    }\n",
       "\n",
       "    .dataframe tbody tr th {\n",
       "        vertical-align: top;\n",
       "    }\n",
       "\n",
       "    .dataframe thead th {\n",
       "        text-align: right;\n",
       "    }\n",
       "</style>\n",
       "<table border=\"1\" class=\"dataframe\">\n",
       "  <thead>\n",
       "    <tr style=\"text-align: right;\">\n",
       "      <th></th>\n",
       "      <th>submission_id</th>\n",
       "      <th>metaseek_env_package</th>\n",
       "      <th>biosample_link</th>\n",
       "      <th>expt_link</th>\n",
       "      <th>metaseek_sequencing_method</th>\n",
       "      <th>ploidy</th>\n",
       "      <th>taxon_common_name</th>\n",
       "      <th>collection_date</th>\n",
       "      <th>investigation_type</th>\n",
       "      <th>metaseek_investigation_type_P</th>\n",
       "      <th>...</th>\n",
       "      <th>age</th>\n",
       "      <th>instrument_model</th>\n",
       "      <th>db_source</th>\n",
       "      <th>study_id</th>\n",
       "      <th>depth</th>\n",
       "      <th>run_ids_maxrun</th>\n",
       "      <th>biosample_models</th>\n",
       "      <th>expt_id</th>\n",
       "      <th>sequencing_method</th>\n",
       "      <th>collection_time</th>\n",
       "    </tr>\n",
       "  </thead>\n",
       "  <tbody>\n",
       "    <tr>\n",
       "      <th>0</th>\n",
       "      <td>SRA228306</td>\n",
       "      <td>NaN</td>\n",
       "      <td>https://www.ncbi.nlm.nih.gov/biosample/3270765</td>\n",
       "      <td>https://www.ncbi.nlm.nih.gov/sra/1172473</td>\n",
       "      <td>illumina</td>\n",
       "      <td>None</td>\n",
       "      <td>None</td>\n",
       "      <td>29-Jul-2013</td>\n",
       "      <td>None</td>\n",
       "      <td>0.714100</td>\n",
       "      <td>...</td>\n",
       "      <td>None</td>\n",
       "      <td>Illumina HiSeq 2500</td>\n",
       "      <td>SRA</td>\n",
       "      <td>SRP051511</td>\n",
       "      <td>None</td>\n",
       "      <td>SRR1749388</td>\n",
       "      <td>Metagenome or environmental</td>\n",
       "      <td>SRX822771</td>\n",
       "      <td>illumina</td>\n",
       "      <td>None</td>\n",
       "    </tr>\n",
       "    <tr>\n",
       "      <th>1</th>\n",
       "      <td>SRA228306</td>\n",
       "      <td>NaN</td>\n",
       "      <td>https://www.ncbi.nlm.nih.gov/biosample/3270767</td>\n",
       "      <td>https://www.ncbi.nlm.nih.gov/sra/1172475</td>\n",
       "      <td>illumina</td>\n",
       "      <td>None</td>\n",
       "      <td>None</td>\n",
       "      <td>29-Jul-2013</td>\n",
       "      <td>None</td>\n",
       "      <td>0.714100</td>\n",
       "      <td>...</td>\n",
       "      <td>None</td>\n",
       "      <td>Illumina HiSeq 2500</td>\n",
       "      <td>SRA</td>\n",
       "      <td>SRP051511</td>\n",
       "      <td>None</td>\n",
       "      <td>SRR1749390</td>\n",
       "      <td>Metagenome or environmental</td>\n",
       "      <td>SRX822773</td>\n",
       "      <td>illumina</td>\n",
       "      <td>None</td>\n",
       "    </tr>\n",
       "    <tr>\n",
       "      <th>2</th>\n",
       "      <td>SRA542751</td>\n",
       "      <td>NaN</td>\n",
       "      <td>https://www.ncbi.nlm.nih.gov/biosample/6477767</td>\n",
       "      <td>https://www.ncbi.nlm.nih.gov/sra/3782169</td>\n",
       "      <td>illumina</td>\n",
       "      <td>None</td>\n",
       "      <td>None</td>\n",
       "      <td>2015</td>\n",
       "      <td>None</td>\n",
       "      <td>0.680889</td>\n",
       "      <td>...</td>\n",
       "      <td>None</td>\n",
       "      <td>Illumina HiSeq 1500</td>\n",
       "      <td>SRA</td>\n",
       "      <td>SRP101374</td>\n",
       "      <td>None</td>\n",
       "      <td>SRR5312486</td>\n",
       "      <td>Metagenome or environmental</td>\n",
       "      <td>SRX2612310</td>\n",
       "      <td>illumina</td>\n",
       "      <td>None</td>\n",
       "    </tr>\n",
       "    <tr>\n",
       "      <th>3</th>\n",
       "      <td>SRA228306</td>\n",
       "      <td>NaN</td>\n",
       "      <td>https://www.ncbi.nlm.nih.gov/biosample/3270072</td>\n",
       "      <td>https://www.ncbi.nlm.nih.gov/sra/1185798</td>\n",
       "      <td>illumina</td>\n",
       "      <td>None</td>\n",
       "      <td>None</td>\n",
       "      <td>10-Jul-2013</td>\n",
       "      <td>None</td>\n",
       "      <td>0.714100</td>\n",
       "      <td>...</td>\n",
       "      <td>None</td>\n",
       "      <td>Illumina MiSeq</td>\n",
       "      <td>SRA</td>\n",
       "      <td>SRP051511</td>\n",
       "      <td>None</td>\n",
       "      <td>SRR1748634</td>\n",
       "      <td>Metagenome or environmental</td>\n",
       "      <td>SRX836023</td>\n",
       "      <td>illumina</td>\n",
       "      <td>None</td>\n",
       "    </tr>\n",
       "    <tr>\n",
       "      <th>4</th>\n",
       "      <td>SRA235235</td>\n",
       "      <td>NaN</td>\n",
       "      <td>https://www.ncbi.nlm.nih.gov/biosample/3294339</td>\n",
       "      <td>https://www.ncbi.nlm.nih.gov/sra/1203067</td>\n",
       "      <td>illumina</td>\n",
       "      <td>None</td>\n",
       "      <td>None</td>\n",
       "      <td>20-Sep-2013</td>\n",
       "      <td>None</td>\n",
       "      <td>0.947262</td>\n",
       "      <td>...</td>\n",
       "      <td>None</td>\n",
       "      <td>Illumina HiSeq 2000</td>\n",
       "      <td>SRA</td>\n",
       "      <td>SRP052940</td>\n",
       "      <td>None</td>\n",
       "      <td>SRR1777946</td>\n",
       "      <td>Metagenome or environmental</td>\n",
       "      <td>SRX853140</td>\n",
       "      <td>illumina</td>\n",
       "      <td>None</td>\n",
       "    </tr>\n",
       "  </tbody>\n",
       "</table>\n",
       "<p>5 rows × 98 columns</p>\n",
       "</div>"
      ],
      "text/plain": [
       "  submission_id metaseek_env_package  \\\n",
       "0     SRA228306                  NaN   \n",
       "1     SRA228306                  NaN   \n",
       "2     SRA542751                  NaN   \n",
       "3     SRA228306                  NaN   \n",
       "4     SRA235235                  NaN   \n",
       "\n",
       "                                   biosample_link  \\\n",
       "0  https://www.ncbi.nlm.nih.gov/biosample/3270765   \n",
       "1  https://www.ncbi.nlm.nih.gov/biosample/3270767   \n",
       "2  https://www.ncbi.nlm.nih.gov/biosample/6477767   \n",
       "3  https://www.ncbi.nlm.nih.gov/biosample/3270072   \n",
       "4  https://www.ncbi.nlm.nih.gov/biosample/3294339   \n",
       "\n",
       "                                  expt_link metaseek_sequencing_method ploidy  \\\n",
       "0  https://www.ncbi.nlm.nih.gov/sra/1172473                   illumina   None   \n",
       "1  https://www.ncbi.nlm.nih.gov/sra/1172475                   illumina   None   \n",
       "2  https://www.ncbi.nlm.nih.gov/sra/3782169                   illumina   None   \n",
       "3  https://www.ncbi.nlm.nih.gov/sra/1185798                   illumina   None   \n",
       "4  https://www.ncbi.nlm.nih.gov/sra/1203067                   illumina   None   \n",
       "\n",
       "  taxon_common_name collection_date investigation_type  \\\n",
       "0              None     29-Jul-2013               None   \n",
       "1              None     29-Jul-2013               None   \n",
       "2              None            2015               None   \n",
       "3              None     10-Jul-2013               None   \n",
       "4              None     20-Sep-2013               None   \n",
       "\n",
       "   metaseek_investigation_type_P  ...   age     instrument_model db_source  \\\n",
       "0                       0.714100  ...  None  Illumina HiSeq 2500       SRA   \n",
       "1                       0.714100  ...  None  Illumina HiSeq 2500       SRA   \n",
       "2                       0.680889  ...  None  Illumina HiSeq 1500       SRA   \n",
       "3                       0.714100  ...  None       Illumina MiSeq       SRA   \n",
       "4                       0.947262  ...  None  Illumina HiSeq 2000       SRA   \n",
       "\n",
       "    study_id depth  run_ids_maxrun             biosample_models     expt_id  \\\n",
       "0  SRP051511  None      SRR1749388  Metagenome or environmental   SRX822771   \n",
       "1  SRP051511  None      SRR1749390  Metagenome or environmental   SRX822773   \n",
       "2  SRP101374  None      SRR5312486  Metagenome or environmental  SRX2612310   \n",
       "3  SRP051511  None      SRR1748634  Metagenome or environmental   SRX836023   \n",
       "4  SRP052940  None      SRR1777946  Metagenome or environmental   SRX853140   \n",
       "\n",
       "  sequencing_method collection_time  \n",
       "0          illumina            None  \n",
       "1          illumina            None  \n",
       "2          illumina            None  \n",
       "3          illumina            None  \n",
       "4          illumina            None  \n",
       "\n",
       "[5 rows x 98 columns]"
      ]
     },
     "execution_count": 31,
     "metadata": {},
     "output_type": "execute_result"
    }
   ],
   "source": [
    "\n",
    "#To find multiple MetaSeek IDs from a list of SRA Run IDs, you can use this API call: \n",
    "\n",
    "import requests, json\n",
    "rules_items = [{\"field\":\"run_ids_maxrun\",\"type\":8,\"value\":sra_of_interest}] #note the type changed to 8; replace ERX###s with a list of your own IDs\n",
    "rules = {\"rules\":rules_items}\n",
    "post_data = {'filter_params':json.dumps(rules)}\n",
    "\n",
    "post = requests.post('https://api.metaseek.cloud/datasets/search/metadata', data=post_data)\n",
    "result = json.loads(post.text) #the parsed result returned from the API.\n",
    "\n",
    "#this result will be a dictionary with a count of the number of matching datasets ('count_matching_datasets'), the filter parameters that were used ('filter_params'), and a list of dataset metadata summaries ('datasets')\n",
    "import pandas as pd\n",
    "df = pd.DataFrame(result['datasets'])\n",
    "df.head()\n",
    "\n",
    "\n",
    "#(the above returns the full metadata of each entry. If you have a lot of IDs you're looking up, \n",
    "#you may want to find a list of matching MetaSeek IDs and iterate through them in batches to get the full metadata for each. \n",
    "#See the API docs on how to do that: https://github.com/MetaSeek-Sequencing-Data-Discovery/metaseek/blob/master/APIdocs.md\n"
   ]
  },
  {
   "cell_type": "code",
   "execution_count": null,
   "id": "10674008-ef5f-4d7d-be21-f29972e9c45c",
   "metadata": {},
   "outputs": [],
   "source": []
  }
 ],
 "metadata": {
  "kernelspec": {
   "display_name": "Python 3",
   "language": "python",
   "name": "python3"
  },
  "language_info": {
   "codemirror_mode": {
    "name": "ipython",
    "version": 3
   },
   "file_extension": ".py",
   "mimetype": "text/x-python",
   "name": "python",
   "nbconvert_exporter": "python",
   "pygments_lexer": "ipython3",
   "version": "3.8.10"
  }
 },
 "nbformat": 4,
 "nbformat_minor": 5
}
